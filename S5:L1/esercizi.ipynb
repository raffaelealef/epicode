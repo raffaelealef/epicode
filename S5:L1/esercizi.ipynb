{
 "cells": [
  {
   "cell_type": "code",
   "execution_count": null,
   "id": "0b768994-14d2-49f0-98c2-3504e9abbd80",
   "metadata": {
    "tags": []
   },
   "outputs": [],
   "source": [
    "\"\"\"\n",
    "Pianificare un viaggio\n",
    "\n",
    "1. Scegliere una destinazione.\n",
    "2. Verificare la disponibilità del tempo libero.\n",
    "3. Raccogliere informazioni sulla destinazione, come attrazioni turistiche, alloggi e ristoranti.\n",
    "4. Verificare la disponibilità di alloggio e trasporto e prenotare.\n",
    "5. Creare un itinerario approssimativo delle attività da svolgere durante il viaggio.\n",
    "6. Preparare una lista degli oggetti necessari per il viaggio (passaporto, documenti).\n",
    "7. Fare le valigie.\n",
    "8. Fare un budget di spese durante viaggio.\n",
    "9. Partire verso la destinazione e godersi il viaggio.\n",
    "\"\"\""
   ]
  },
  {
   "cell_type": "code",
   "execution_count": 2,
   "id": "98852ee5-c88b-4341-b29f-cbaa037b6a78",
   "metadata": {
    "tags": []
   },
   "outputs": [],
   "source": [
    "#Esercizio: Abbiamo 25 studenti; memorizzare questo dato in una variabile.\n",
    "studenti = 25\n"
   ]
  },
  {
   "cell_type": "code",
   "execution_count": 3,
   "id": "7aa0a02e-d76f-48cb-a882-588acaa2d357",
   "metadata": {
    "tags": []
   },
   "outputs": [
    {
     "name": "stdout",
     "output_type": "stream",
     "text": [
      "25\n"
     ]
    }
   ],
   "source": [
    "#Esercizio Abbiamo 25 studenti; memorizzare questo dato in una variabile e stamparla a video.\n",
    "studenti = 25\n",
    "print(studenti)\n"
   ]
  },
  {
   "cell_type": "code",
   "execution_count": 6,
   "id": "e26c370a-e939-4f66-8423-9457a392a79f",
   "metadata": {
    "tags": []
   },
   "outputs": [],
   "source": [
    "#Esercizio Abbiamo 25 studenti; memorizzare questo dato in una variabile. Arrivano altri 3 studenti; memorizzare questo dato in un'altra variabile.\n",
    "studenti = 25 \n",
    "studenti_2 = 3"
   ]
  },
  {
   "cell_type": "code",
   "execution_count": 7,
   "id": "97c9f49d-bfcd-4bb0-bb9e-5ff15dc9c2fd",
   "metadata": {
    "tags": []
   },
   "outputs": [
    {
     "name": "stdout",
     "output_type": "stream",
     "text": [
      "28\n"
     ]
    }
   ],
   "source": [
    "#Esercizio Abbiamo 25 studenti; memorizzare questo dato in una variabile. Arrivano altri 3 studenti; memorizzare questo dato in un'altra variabile. Creare un'altra variabile ancora che conterrà la somma delle prime due, poi stamparla a video.\n",
    "studenti = 25 \n",
    "studenti_2 = 3\n",
    "studenti_tot = studenti + studenti_2\n",
    "print(studenti_tot)\n"
   ]
  },
  {
   "cell_type": "code",
   "execution_count": 8,
   "id": "00152a0b-21a5-40ec-a1ef-728440762e9f",
   "metadata": {
    "tags": []
   },
   "outputs": [
    {
     "name": "stdout",
     "output_type": "stream",
     "text": [
      "Epicode\n"
     ]
    }
   ],
   "source": [
    "#Esercizio Creare una variabile che contiene la stringa \"Epicode\", quindi stamparla a video.\n",
    "stringa = \"Epicode\"\n",
    "print(stringa)"
   ]
  },
  {
   "cell_type": "code",
   "execution_count": 9,
   "id": "07e2f5a5-a521-4b64-bf77-f2d8754f7753",
   "metadata": {
    "tags": []
   },
   "outputs": [
    {
     "name": "stdout",
     "output_type": "stream",
     "text": [
      "[0, 1, 2, 3, 4, 5]\n"
     ]
    }
   ],
   "source": [
    "#Esercizio Creare, a mano, una lista che contenga i numeri da 0 a 5, memorizzarla in una variabile e infine stamparla a video.\n",
    "lista = [0, 1, 2, 3, 4, 5]\n",
    "print(lista)"
   ]
  },
  {
   "cell_type": "code",
   "execution_count": 10,
   "id": "bbda0453-61e5-4eee-8961-e75c1e270ced",
   "metadata": {
    "tags": []
   },
   "outputs": [
    {
     "name": "stdout",
     "output_type": "stream",
     "text": [
      "E\n"
     ]
    }
   ],
   "source": [
    "#Esercizio Abbiamo la stringa: nome_scuola = \"Epicode\" Stampare l'iniziale\n",
    "nome_scuola = \"Epicode\"\n",
    "print(nome_scuola[0])"
   ]
  },
  {
   "cell_type": "code",
   "execution_count": 12,
   "id": "12c02c1b-580a-4322-82e8-980c099afa44",
   "metadata": {
    "tags": []
   },
   "outputs": [
    {
     "name": "stdout",
     "output_type": "stream",
     "text": [
      "Epi\n"
     ]
    }
   ],
   "source": [
    "#Esercizio Abbiamo la stringa: nome_scuola = \"Epicode\" Stampare le prime tre lettere.\n",
    "nome_scuola = \"Epicode\"\n",
    "print(nome_scuola[:3])\n",
    "    "
   ]
  },
  {
   "cell_type": "code",
   "execution_count": 13,
   "id": "64d8d9ec-aa7a-444c-ad28-6504ad71a44d",
   "metadata": {
    "tags": []
   },
   "outputs": [
    {
     "name": "stdout",
     "output_type": "stream",
     "text": [
      "36\n"
     ]
    }
   ],
   "source": [
    "#Esercizio Abbiamo la variabile: x = 10 Incrementarla di 2 e poi moltiplicarla per 3\n",
    "x=10\n",
    "x+=2\n",
    "x*=3\n",
    "print(x)"
   ]
  },
  {
   "cell_type": "code",
   "execution_count": 16,
   "id": "25ff440c-0a72-4f64-aca9-38810d23780c",
   "metadata": {
    "tags": []
   },
   "outputs": [
    {
     "name": "stdin",
     "output_type": "stream",
     "text": [
      " computer\n"
     ]
    },
    {
     "name": "stdout",
     "output_type": "stream",
     "text": [
      "com...ter\n"
     ]
    }
   ],
   "source": [
    "#Esercizio Scriviamo un programma che chiede in input all'utente una stringa e visualizza i primi 3 caratteri, seguiti da 3 punti di sospensione e quindi gli ultimi 3 caratteri. Esempio: • Input: computer • Output: com...ter\n",
    "x = input()\n",
    "print(x[:3] + \"...\" + x[-3:])\n"
   ]
  },
  {
   "cell_type": "code",
   "execution_count": 20,
   "id": "26369976-c26b-4342-a567-17cf34806138",
   "metadata": {
    "tags": []
   },
   "outputs": [
    {
     "name": "stdout",
     "output_type": "stream",
     "text": [
      "Windows: True\n",
      "Excel: True\n",
      "Powerpoint: False\n",
      "Word: False\n"
     ]
    }
   ],
   "source": [
    "#Esercizio Verificare, per ognuna delle seguenti stringhe, se il numero di caratteri è compreso tra 5 e 8: • Windows • Excel • Powerpoint • Word\n",
    "stringhe = [\"Windows\", \"Excel\", \"Powerpoint\", \"Word\"]\n",
    "for stringa in stringhe:\n",
    "    print(stringa + \":\", len(stringa)>=5 and len(stringa)<=8) \n",
    "    "
   ]
  },
  {
   "cell_type": "code",
   "execution_count": 24,
   "id": "ad09bd19-0132-4fd6-ba14-63bb8a6c54ef",
   "metadata": {
    "tags": []
   },
   "outputs": [
    {
     "name": "stdin",
     "output_type": "stream",
     "text": [
      "Inserisci la coordinata x del primo punto:  4\n",
      "Inserisci la coordinata y del primo punto:  5\n",
      "Inserisci la coordinata x del secondo punto:  6\n",
      "Inserisci la coordinata y del secondo punto:  8\n"
     ]
    },
    {
     "name": "stdout",
     "output_type": "stream",
     "text": [
      "y = 1.5x + -1.0\n"
     ]
    }
   ],
   "source": [
    "#Esercizio Inventare un programma che prende in input degli elementi e restituisce in output una loro combinazione (ad esempio prendendo in input due numeri e restituendo la loro somma).\n",
    "x1 = float(input(\"Inserisci la coordinata x del primo punto: \"))\n",
    "y1 = float(input(\"Inserisci la coordinata y del primo punto: \"))\n",
    "x2 = float(input(\"Inserisci la coordinata x del secondo punto: \"))\n",
    "y2 = float(input(\"Inserisci la coordinata y del secondo punto: \"))\n",
    "\n",
    "m = (y2 - y1) / (x2 - x1)\n",
    "q = y1 - m * x1\n",
    "\n",
    "print(\"y = {}x + {}\".format(m,q))\n"
   ]
  },
  {
   "cell_type": "code",
   "execution_count": 25,
   "id": "63dd5849-5a3a-4fe3-89e9-02c1759de642",
   "metadata": {
    "tags": []
   },
   "outputs": [
    {
     "name": "stdin",
     "output_type": "stream",
     "text": [
      "Inserisci prima parola:  Parola breve\n",
      "Inserisci seconda parola:  prova\n",
      "Inserisci terza parola:  parole3\n"
     ]
    },
    {
     "name": "stdout",
     "output_type": "stream",
     "text": [
      "Prodotto:  420\n"
     ]
    }
   ],
   "source": [
    "#Un utente inserisce tre parole e il programma stampa il prodotto delle lunghezze delle parole\n",
    "\n",
    "\n",
    "x = input(\"Inserisci prima parola: \")\n",
    "y = input(\"Inserisci seconda parola: \")\n",
    "q = input(\"Inserisci terza parola: \")\n",
    "\n",
    "lista = [x, y, q]\n",
    "\n",
    "prodotto = 1\n",
    "for l in lista:\n",
    "    prodotto*= len(l)\n",
    "\n",
    "print(\"Prodotto: \", prodotto)\n"
   ]
  },
  {
   "cell_type": "code",
   "execution_count": 26,
   "id": "e5d67c0f-cd80-4415-9a24-1dcee887fe29",
   "metadata": {
    "tags": []
   },
   "outputs": [
    {
     "name": "stdin",
     "output_type": "stream",
     "text": [
      "Inserisci 1 parola:  prova\n",
      "Inserisci 2 parola:  CIAOAOAOAAO\n",
      "Inserisci 3 parola:  fghtkE\n"
     ]
    },
    {
     "name": "stdout",
     "output_type": "stream",
     "text": [
      "['PROVA', 'ciaoaoaoaao', 'Fghtke']\n"
     ]
    }
   ],
   "source": [
    "#un utente inserisce tre parole e il programma produce in output la prima in maiuscolo, la seconda in minuscolo e la terza con l'iniziale maiuscola. Poi prende i primi tre caratteri di ognuna e li stampa a video\n",
    "\n",
    "lista = []\n",
    "for i in range(3):\n",
    "    p = input(\"Inserisci {} parola: \".format(i+1))\n",
    "    p = p.upper() if i == 0 else p\n",
    "    p = p.lower() if i == 1 else p\n",
    "    p = p.title() if i == 2 else p\n",
    "    lista.append(p)\n",
    "    \n",
    "print(lista)"
   ]
  },
  {
   "cell_type": "code",
   "execution_count": null,
   "id": "218856eb-2109-488d-b3d3-53c8826f2ad0",
   "metadata": {},
   "outputs": [],
   "source": []
  }
 ],
 "metadata": {
  "kernelspec": {
   "display_name": "Python 3 (ipykernel)",
   "language": "python",
   "name": "python3"
  },
  "language_info": {
   "codemirror_mode": {
    "name": "ipython",
    "version": 3
   },
   "file_extension": ".py",
   "mimetype": "text/x-python",
   "name": "python",
   "nbconvert_exporter": "python",
   "pygments_lexer": "ipython3",
   "version": "3.11.5"
  }
 },
 "nbformat": 4,
 "nbformat_minor": 5
}
