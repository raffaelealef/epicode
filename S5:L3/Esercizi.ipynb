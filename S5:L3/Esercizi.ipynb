{
 "cells": [
  {
   "cell_type": "code",
   "execution_count": 1,
   "id": "12650db3-9e6c-4827-8a43-884e225f8ea1",
   "metadata": {
    "tags": []
   },
   "outputs": [
    {
     "name": "stdout",
     "output_type": "stream",
     "text": [
      "E\n",
      "p\n",
      "i\n",
      "c\n",
      "o\n",
      "d\n",
      "e\n"
     ]
    }
   ],
   "source": [
    "stringa = \"Epicode\"\n",
    "\n",
    "for i in range(len(stringa)):\n",
    "    print(stringa[i])"
   ]
  },
  {
   "cell_type": "code",
   "execution_count": 2,
   "id": "1ce48bad-0436-430c-9641-e128c2140c88",
   "metadata": {
    "tags": []
   },
   "outputs": [
    {
     "name": "stdout",
     "output_type": "stream",
     "text": [
      "1\n",
      "2\n",
      "3\n",
      "4\n",
      "5\n",
      "6\n",
      "7\n",
      "8\n",
      "9\n",
      "10\n",
      "11\n",
      "12\n",
      "13\n",
      "14\n",
      "15\n",
      "16\n",
      "17\n",
      "18\n",
      "19\n",
      "20\n"
     ]
    }
   ],
   "source": [
    "for i in range(20):\n",
    "    print(i+1)"
   ]
  },
  {
   "cell_type": "code",
   "execution_count": 6,
   "id": "a3a8bd95-6495-432a-97ee-628176ad43ed",
   "metadata": {
    "tags": []
   },
   "outputs": [
    {
     "name": "stdout",
     "output_type": "stream",
     "text": [
      "2\n",
      "4\n",
      "8\n",
      "16\n",
      "32\n",
      "64\n",
      "128\n",
      "256\n",
      "512\n",
      "1024\n"
     ]
    }
   ],
   "source": [
    "start = 2\n",
    "for i in range(10):\n",
    "    print(start)\n",
    "    start *=2\n",
    "    \n",
    "    "
   ]
  },
  {
   "cell_type": "code",
   "execution_count": 7,
   "id": "806fc568-f1cb-41ff-93a1-d6477ea20adf",
   "metadata": {
    "tags": []
   },
   "outputs": [
    {
     "name": "stdout",
     "output_type": "stream",
     "text": [
      "{'Ada': 'Punto', 'Ben': 'Multipla', 'Charlie': 'Golf', 'Debbie': '107'}\n",
      "107\n"
     ]
    }
   ],
   "source": [
    "diz = {\n",
    "'Ada':'Punto',\n",
    "'Ben':'Multipla',\n",
    "'Charlie':'Golf',\n",
    "'Debbie':'107'\n",
    "}\n",
    "print(diz)\n",
    "print(diz[\"Debbie\"])\n",
    "\n",
    "    "
   ]
  },
  {
   "cell_type": "code",
   "execution_count": 48,
   "id": "87d4b105-ec62-49ab-96d0-bba9885811ec",
   "metadata": {
    "tags": []
   },
   "outputs": [
    {
     "name": "stdout",
     "output_type": "stream",
     "text": [
      "Punto\n",
      "\n",
      "Golf\n",
      "107\n"
     ]
    }
   ],
   "source": [
    "dizionario_auto = {\"Ada\": \"Punto\", \"Ben\": \"Multipla\", \"Charlie\": \"Golf\", \"Debbie\": \"107\"}\n",
    "\n",
    "for i in dizionario_auto.values():\n",
    "    print(i if i!=\"Multipla\" else \"\")\n",
    "    "
   ]
  },
  {
   "cell_type": "code",
   "execution_count": 19,
   "id": "99334461-bb19-4285-aca3-2b09cf4e6a28",
   "metadata": {
    "tags": []
   },
   "outputs": [
    {
     "name": "stdout",
     "output_type": "stream",
     "text": [
      "567\n",
      "0\n"
     ]
    }
   ],
   "source": [
    "lista = [0,1,4,567,54,36,57,72,44]\n",
    "print(max(lista))\n",
    "print(min(lista))\n"
   ]
  },
  {
   "cell_type": "code",
   "execution_count": 23,
   "id": "824182d4-d514-4296-a08a-f15194d28549",
   "metadata": {
    "tags": []
   },
   "outputs": [
    {
     "name": "stdin",
     "output_type": "stream",
     "text": [
      "Lista:  4,5,6,7,8\n"
     ]
    },
    {
     "name": "stdout",
     "output_type": "stream",
     "text": [
      "['4', '5', '6', '7', '8']\n"
     ]
    }
   ],
   "source": [
    "a = list(input(\"Lista: \").replace(\",\",\"\").strip())\n",
    "print(a)\n"
   ]
  },
  {
   "cell_type": "code",
   "execution_count": 34,
   "id": "ae1fc241-a830-4e2b-a2c6-246988a25bde",
   "metadata": {
    "tags": []
   },
   "outputs": [
    {
     "name": "stdin",
     "output_type": "stream",
     "text": [
      "Lista:  4,5,\n"
     ]
    },
    {
     "name": "stdout",
     "output_type": "stream",
     "text": [
      "['4', '5']\n",
      "Almeno 3 !!!\n"
     ]
    }
   ],
   "source": [
    "a = list(input(\"Lista: \").replace(\",\",\"\").strip())\n",
    "print(a)\n",
    "if len(a)>=3:\n",
    "    for i in range(3):\n",
    "        print(str(max(a)))\n",
    "        a.remove(max(a))\n",
    "else:\n",
    "    print(\"Almeno 3 !!!\")"
   ]
  },
  {
   "cell_type": "code",
   "execution_count": 43,
   "id": "76537cee-2e11-4054-8965-d9ebb24950f6",
   "metadata": {
    "tags": []
   },
   "outputs": [
    {
     "name": "stdin",
     "output_type": "stream",
     "text": [
      "Lista:  5,7,\n",
      "K:  7\n"
     ]
    },
    {
     "name": "stdout",
     "output_type": "stream",
     "text": [
      "Somma:  7.0\n",
      "N. valori:  1\n",
      "Media:  7.0\n"
     ]
    }
   ],
   "source": [
    "a = list(input(\"Lista: \").replace(\",\",\"\").strip())\n",
    "k = float(input(\"K: \"))\n",
    "somma=0\n",
    "l = 0\n",
    "for i in a:\n",
    "    if float(i)>=k:\n",
    "        somma+=float(i)\n",
    "        l+=1\n",
    "\n",
    "print(\"Somma: \", somma)\n",
    "print(\"N. valori: \", l)\n",
    "print(\"Media: \",somma/l)\n"
   ]
  },
  {
   "cell_type": "code",
   "execution_count": 44,
   "id": "59eb1d5a-23ad-4a4d-a017-9c7867087c31",
   "metadata": {
    "tags": []
   },
   "outputs": [
    {
     "name": "stdin",
     "output_type": "stream",
     "text": [
      "Lista:  5,6,7,8,4\n"
     ]
    },
    {
     "name": "stdout",
     "output_type": "stream",
     "text": [
      "*****\n",
      "******\n",
      "*******\n",
      "********\n",
      "****\n"
     ]
    }
   ],
   "source": [
    "def aster(x):\n",
    "    stringa = \"\"\n",
    "    for i in range(int(x)):\n",
    "        stringa+=\"*\"\n",
    "    print(stringa)\n",
    "    \n",
    "a = list(input(\"Lista: \").replace(\",\",\"\").strip())\n",
    "for i in a:\n",
    "    aster(i)"
   ]
  },
  {
   "cell_type": "code",
   "execution_count": null,
   "id": "dbe3404a-3943-4b47-a341-46927214a9bd",
   "metadata": {},
   "outputs": [],
   "source": []
  }
 ],
 "metadata": {
  "kernelspec": {
   "display_name": "Python 3 (ipykernel)",
   "language": "python",
   "name": "python3"
  },
  "language_info": {
   "codemirror_mode": {
    "name": "ipython",
    "version": 3
   },
   "file_extension": ".py",
   "mimetype": "text/x-python",
   "name": "python",
   "nbconvert_exporter": "python",
   "pygments_lexer": "ipython3",
   "version": "3.11.5"
  }
 },
 "nbformat": 4,
 "nbformat_minor": 5
}
